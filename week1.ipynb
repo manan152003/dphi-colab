{
  "cells": [
    {
      "cell_type": "markdown",
      "metadata": {
        "id": "view-in-github",
        "colab_type": "text"
      },
      "source": [
        "<a href=\"https://colab.research.google.com/github/manan152003/dphi-colab/blob/main/week1.ipynb\" target=\"_parent\"><img src=\"https://colab.research.google.com/assets/colab-badge.svg\" alt=\"Open In Colab\"/></a>"
      ]
    },
    {
      "cell_type": "markdown",
      "metadata": {
        "id": "pr8CJAn5N1px"
      },
      "source": [
        "setting-up-of-tensorflow"
      ]
    },
    {
      "cell_type": "code",
      "execution_count": null,
      "metadata": {
        "colab": {
          "base_uri": "https://localhost:8080/"
        },
        "id": "TSbNX7fgN2zb",
        "outputId": "096b3afe-9d8d-484c-dbac-351abf613036"
      },
      "outputs": [
        {
          "name": "stdout",
          "output_type": "stream",
          "text": [
            "Looking in indexes: https://pypi.org/simple, https://us-python.pkg.dev/colab-wheels/public/simple/\n",
            "Requirement already satisfied: tensorflow in /usr/local/lib/python3.7/dist-packages (2.9.2)\n",
            "Requirement already satisfied: keras<2.10.0,>=2.9.0rc0 in /usr/local/lib/python3.7/dist-packages (from tensorflow) (2.9.0)\n",
            "Requirement already satisfied: flatbuffers<2,>=1.12 in /usr/local/lib/python3.7/dist-packages (from tensorflow) (1.12)\n",
            "Requirement already satisfied: absl-py>=1.0.0 in /usr/local/lib/python3.7/dist-packages (from tensorflow) (1.2.0)\n",
            "Requirement already satisfied: h5py>=2.9.0 in /usr/local/lib/python3.7/dist-packages (from tensorflow) (3.1.0)\n",
            "Requirement already satisfied: six>=1.12.0 in /usr/local/lib/python3.7/dist-packages (from tensorflow) (1.15.0)\n",
            "Requirement already satisfied: astunparse>=1.6.0 in /usr/local/lib/python3.7/dist-packages (from tensorflow) (1.6.3)\n",
            "Requirement already satisfied: termcolor>=1.1.0 in /usr/local/lib/python3.7/dist-packages (from tensorflow) (2.0.1)\n",
            "Requirement already satisfied: keras-preprocessing>=1.1.1 in /usr/local/lib/python3.7/dist-packages (from tensorflow) (1.1.2)\n",
            "Requirement already satisfied: protobuf<3.20,>=3.9.2 in /usr/local/lib/python3.7/dist-packages (from tensorflow) (3.17.3)\n",
            "Requirement already satisfied: google-pasta>=0.1.1 in /usr/local/lib/python3.7/dist-packages (from tensorflow) (0.2.0)\n",
            "Requirement already satisfied: gast<=0.4.0,>=0.2.1 in /usr/local/lib/python3.7/dist-packages (from tensorflow) (0.4.0)\n",
            "Requirement already satisfied: typing-extensions>=3.6.6 in /usr/local/lib/python3.7/dist-packages (from tensorflow) (4.1.1)\n",
            "Requirement already satisfied: wrapt>=1.11.0 in /usr/local/lib/python3.7/dist-packages (from tensorflow) (1.14.1)\n",
            "Requirement already satisfied: libclang>=13.0.0 in /usr/local/lib/python3.7/dist-packages (from tensorflow) (14.0.6)\n",
            "Requirement already satisfied: setuptools in /usr/local/lib/python3.7/dist-packages (from tensorflow) (57.4.0)\n",
            "Requirement already satisfied: grpcio<2.0,>=1.24.3 in /usr/local/lib/python3.7/dist-packages (from tensorflow) (1.49.1)\n",
            "Requirement already satisfied: opt-einsum>=2.3.2 in /usr/local/lib/python3.7/dist-packages (from tensorflow) (3.3.0)\n",
            "Requirement already satisfied: packaging in /usr/local/lib/python3.7/dist-packages (from tensorflow) (21.3)\n",
            "Requirement already satisfied: tensorboard<2.10,>=2.9 in /usr/local/lib/python3.7/dist-packages (from tensorflow) (2.9.1)\n",
            "Requirement already satisfied: tensorflow-estimator<2.10.0,>=2.9.0rc0 in /usr/local/lib/python3.7/dist-packages (from tensorflow) (2.9.0)\n",
            "Requirement already satisfied: tensorflow-io-gcs-filesystem>=0.23.1 in /usr/local/lib/python3.7/dist-packages (from tensorflow) (0.27.0)\n",
            "Requirement already satisfied: numpy>=1.20 in /usr/local/lib/python3.7/dist-packages (from tensorflow) (1.21.6)\n",
            "Requirement already satisfied: wheel<1.0,>=0.23.0 in /usr/local/lib/python3.7/dist-packages (from astunparse>=1.6.0->tensorflow) (0.37.1)\n",
            "Requirement already satisfied: cached-property in /usr/local/lib/python3.7/dist-packages (from h5py>=2.9.0->tensorflow) (1.5.2)\n",
            "Requirement already satisfied: google-auth<3,>=1.6.3 in /usr/local/lib/python3.7/dist-packages (from tensorboard<2.10,>=2.9->tensorflow) (1.35.0)\n",
            "Requirement already satisfied: tensorboard-plugin-wit>=1.6.0 in /usr/local/lib/python3.7/dist-packages (from tensorboard<2.10,>=2.9->tensorflow) (1.8.1)\n",
            "Requirement already satisfied: werkzeug>=1.0.1 in /usr/local/lib/python3.7/dist-packages (from tensorboard<2.10,>=2.9->tensorflow) (1.0.1)\n",
            "Requirement already satisfied: tensorboard-data-server<0.7.0,>=0.6.0 in /usr/local/lib/python3.7/dist-packages (from tensorboard<2.10,>=2.9->tensorflow) (0.6.1)\n",
            "Requirement already satisfied: requests<3,>=2.21.0 in /usr/local/lib/python3.7/dist-packages (from tensorboard<2.10,>=2.9->tensorflow) (2.23.0)\n",
            "Requirement already satisfied: google-auth-oauthlib<0.5,>=0.4.1 in /usr/local/lib/python3.7/dist-packages (from tensorboard<2.10,>=2.9->tensorflow) (0.4.6)\n",
            "Requirement already satisfied: markdown>=2.6.8 in /usr/local/lib/python3.7/dist-packages (from tensorboard<2.10,>=2.9->tensorflow) (3.4.1)\n",
            "Requirement already satisfied: rsa<5,>=3.1.4 in /usr/local/lib/python3.7/dist-packages (from google-auth<3,>=1.6.3->tensorboard<2.10,>=2.9->tensorflow) (4.9)\n",
            "Requirement already satisfied: pyasn1-modules>=0.2.1 in /usr/local/lib/python3.7/dist-packages (from google-auth<3,>=1.6.3->tensorboard<2.10,>=2.9->tensorflow) (0.2.8)\n",
            "Requirement already satisfied: cachetools<5.0,>=2.0.0 in /usr/local/lib/python3.7/dist-packages (from google-auth<3,>=1.6.3->tensorboard<2.10,>=2.9->tensorflow) (4.2.4)\n",
            "Requirement already satisfied: requests-oauthlib>=0.7.0 in /usr/local/lib/python3.7/dist-packages (from google-auth-oauthlib<0.5,>=0.4.1->tensorboard<2.10,>=2.9->tensorflow) (1.3.1)\n",
            "Requirement already satisfied: importlib-metadata>=4.4 in /usr/local/lib/python3.7/dist-packages (from markdown>=2.6.8->tensorboard<2.10,>=2.9->tensorflow) (5.0.0)\n",
            "Requirement already satisfied: zipp>=0.5 in /usr/local/lib/python3.7/dist-packages (from importlib-metadata>=4.4->markdown>=2.6.8->tensorboard<2.10,>=2.9->tensorflow) (3.9.0)\n",
            "Requirement already satisfied: pyasn1<0.5.0,>=0.4.6 in /usr/local/lib/python3.7/dist-packages (from pyasn1-modules>=0.2.1->google-auth<3,>=1.6.3->tensorboard<2.10,>=2.9->tensorflow) (0.4.8)\n",
            "Requirement already satisfied: chardet<4,>=3.0.2 in /usr/local/lib/python3.7/dist-packages (from requests<3,>=2.21.0->tensorboard<2.10,>=2.9->tensorflow) (3.0.4)\n",
            "Requirement already satisfied: certifi>=2017.4.17 in /usr/local/lib/python3.7/dist-packages (from requests<3,>=2.21.0->tensorboard<2.10,>=2.9->tensorflow) (2022.9.24)\n",
            "Requirement already satisfied: idna<3,>=2.5 in /usr/local/lib/python3.7/dist-packages (from requests<3,>=2.21.0->tensorboard<2.10,>=2.9->tensorflow) (2.10)\n",
            "Requirement already satisfied: urllib3!=1.25.0,!=1.25.1,<1.26,>=1.21.1 in /usr/local/lib/python3.7/dist-packages (from requests<3,>=2.21.0->tensorboard<2.10,>=2.9->tensorflow) (1.24.3)\n",
            "Requirement already satisfied: oauthlib>=3.0.0 in /usr/local/lib/python3.7/dist-packages (from requests-oauthlib>=0.7.0->google-auth-oauthlib<0.5,>=0.4.1->tensorboard<2.10,>=2.9->tensorflow) (3.2.1)\n",
            "Requirement already satisfied: pyparsing!=3.0.5,>=2.0.2 in /usr/local/lib/python3.7/dist-packages (from packaging->tensorflow) (3.0.9)\n"
          ]
        }
      ],
      "source": [
        "!pip install tensorflow "
      ]
    },
    {
      "cell_type": "code",
      "execution_count": null,
      "metadata": {
        "id": "lZu_4AsWN8A3"
      },
      "outputs": [],
      "source": [
        "import tensorflow as tf"
      ]
    },
    {
      "cell_type": "markdown",
      "metadata": {
        "id": "DkvJoTATXpAn"
      },
      "source": [
        "reshaping "
      ]
    },
    {
      "cell_type": "code",
      "execution_count": null,
      "metadata": {
        "id": "oq20rqa8N-KW"
      },
      "outputs": [],
      "source": [
        "import torch "
      ]
    },
    {
      "cell_type": "code",
      "execution_count": null,
      "metadata": {
        "id": "drt1dpAcW2jF"
      },
      "outputs": [],
      "source": [
        "t = torch.tensor([\n",
        "    [1,2,3],\n",
        "    [4,5,6],\n",
        "    [7,8,9]\n",
        "], dtype = torch.float32\n",
        ")"
      ]
    },
    {
      "cell_type": "code",
      "execution_count": null,
      "metadata": {
        "colab": {
          "base_uri": "https://localhost:8080/"
        },
        "id": "-fDy98oDl51W",
        "outputId": "31cab48a-a299-40e8-8836-3281edfec904"
      },
      "outputs": [
        {
          "data": {
            "text/plain": [
              "tensor(30)"
            ]
          },
          "execution_count": 68,
          "metadata": {},
          "output_type": "execute_result"
        }
      ],
      "source": [
        "t1 = tf.constant([\n",
        "\n",
        "           [[0, 1, 2, 3, 4],\n",
        "\n",
        "            [5, 6, 7, 8, 9]],\n",
        "\n",
        "           [[10, 11, 12, 13, 14],\n",
        "\n",
        "            [15, 16, 17, 18, 19]],\n",
        "\n",
        "           [[20, 21, 22, 23, 24],\n",
        "\n",
        "            [25, 26, 27, 28, 29]],])\n",
        "torch.tensor(t1.shape).prod()"
      ]
    },
    {
      "cell_type": "code",
      "execution_count": null,
      "metadata": {
        "colab": {
          "base_uri": "https://localhost:8080/"
        },
        "id": "Bs4tWEg7XCuf",
        "outputId": "5a4de834-8af1-4f72-8a20-06f1f250b3fb"
      },
      "outputs": [
        {
          "data": {
            "text/plain": [
              "torch.Size([3, 3])"
            ]
          },
          "execution_count": 69,
          "metadata": {},
          "output_type": "execute_result"
        }
      ],
      "source": [
        "t.shape"
      ]
    },
    {
      "cell_type": "code",
      "execution_count": null,
      "metadata": {
        "colab": {
          "base_uri": "https://localhost:8080/",
          "height": 35
        },
        "id": "zwAj_C_rXhs9",
        "outputId": "968c0a33-7431-4bf3-fe28-1460ae5a4157"
      },
      "outputs": [
        {
          "data": {
            "application/vnd.google.colaboratory.intrinsic+json": {
              "type": "string"
            },
            "text/plain": [
              "'torch.FloatTensor'"
            ]
          },
          "execution_count": 70,
          "metadata": {},
          "output_type": "execute_result"
        }
      ],
      "source": [
        "t.type()"
      ]
    },
    {
      "cell_type": "code",
      "execution_count": null,
      "metadata": {
        "colab": {
          "base_uri": "https://localhost:8080/"
        },
        "id": "tCNjtVC1Xkdg",
        "outputId": "58467877-3569-4a9f-a1a0-6674dd17063b"
      },
      "outputs": [
        {
          "data": {
            "text/plain": [
              "tensor([[1., 2., 3., 4., 5., 6., 7., 8., 9.]])"
            ]
          },
          "execution_count": 71,
          "metadata": {},
          "output_type": "execute_result"
        }
      ],
      "source": [
        "t.reshape(1,9)"
      ]
    },
    {
      "cell_type": "code",
      "execution_count": null,
      "metadata": {
        "colab": {
          "base_uri": "https://localhost:8080/"
        },
        "id": "2XY7Po5NXmQb",
        "outputId": "d3237a22-3027-4dbc-ac0c-b33d84a06d57"
      },
      "outputs": [
        {
          "data": {
            "text/plain": [
              "tensor(9)"
            ]
          },
          "execution_count": 72,
          "metadata": {},
          "output_type": "execute_result"
        }
      ],
      "source": [
        "torch.tensor(t.shape).prod()"
      ]
    },
    {
      "cell_type": "code",
      "execution_count": null,
      "metadata": {
        "colab": {
          "base_uri": "https://localhost:8080/"
        },
        "id": "IXfHk9ThX-jP",
        "outputId": "c8447797-3b83-4e90-84d1-c09a8a9d421b"
      },
      "outputs": [
        {
          "data": {
            "text/plain": [
              "9"
            ]
          },
          "execution_count": 73,
          "metadata": {},
          "output_type": "execute_result"
        }
      ],
      "source": [
        "t.numel()"
      ]
    },
    {
      "cell_type": "code",
      "execution_count": null,
      "metadata": {
        "colab": {
          "base_uri": "https://localhost:8080/"
        },
        "id": "w3glK4naYD7I",
        "outputId": "0bd0f610-7454-4a43-88e2-c37c731a90ab"
      },
      "outputs": [
        {
          "name": "stdout",
          "output_type": "stream",
          "text": [
            "tensor([1., 2., 3., 4., 5., 6., 7., 8., 9.])\n",
            "torch.Size([9])\n"
          ]
        }
      ],
      "source": [
        "print(t.reshape(1,9).squeeze())\n",
        "print(t.reshape(1,9).squeeze().shape)"
      ]
    },
    {
      "cell_type": "code",
      "execution_count": null,
      "metadata": {
        "colab": {
          "base_uri": "https://localhost:8080/"
        },
        "id": "eTclKAK-Yh9C",
        "outputId": "1e949539-37cd-4590-b770-1338a3f8e80c"
      },
      "outputs": [
        {
          "name": "stdout",
          "output_type": "stream",
          "text": [
            "tensor([[1., 2., 3., 4., 5., 6., 7., 8., 9.]])\n",
            "torch.Size([1, 9])\n"
          ]
        }
      ],
      "source": [
        "print(t.reshape(1,9).squeeze().unsqueeze(dim=0))\n",
        "print(t.reshape(1,9).squeeze().unsqueeze(dim=0).shape)"
      ]
    },
    {
      "cell_type": "code",
      "execution_count": null,
      "metadata": {
        "id": "QkZR-y6DYsdM"
      },
      "outputs": [],
      "source": [
        "def flatten(t):\n",
        "  t = t.reshape(1,-1)\n",
        "  t = t.squeeze()\n",
        "  return t"
      ]
    },
    {
      "cell_type": "code",
      "execution_count": null,
      "metadata": {
        "colab": {
          "base_uri": "https://localhost:8080/"
        },
        "id": "PPU7VCLNZkd3",
        "outputId": "231bb3a7-f062-49b7-848a-0e4e5e629528"
      },
      "outputs": [
        {
          "data": {
            "text/plain": [
              "tensor([1., 3., 5., 7., 9.])"
            ]
          },
          "execution_count": 77,
          "metadata": {},
          "output_type": "execute_result"
        }
      ],
      "source": [
        "t = flatten(t)\n",
        "t[::2]"
      ]
    },
    {
      "cell_type": "code",
      "execution_count": null,
      "metadata": {
        "id": "eAUC3mvyZnB_"
      },
      "outputs": [],
      "source": [
        "a = torch.tensor([\n",
        "    [1,1,1,1,1,1],\n",
        "    [2,2,2,2,2,2],\n",
        "    [3,3,3,3,3,3]\n",
        "], dtype = torch.int32)"
      ]
    },
    {
      "cell_type": "code",
      "execution_count": null,
      "metadata": {
        "colab": {
          "base_uri": "https://localhost:8080/"
        },
        "id": "AcL9SimmZ4Ni",
        "outputId": "642dc478-a60f-48dc-e338-950b35c6fab4"
      },
      "outputs": [
        {
          "data": {
            "text/plain": [
              "tensor([1, 1, 1, 1, 1, 1, 2, 2, 2, 2, 2, 2, 3, 3, 3, 3, 3, 3],\n",
              "       dtype=torch.int32)"
            ]
          },
          "execution_count": 79,
          "metadata": {},
          "output_type": "execute_result"
        }
      ],
      "source": [
        "flatten(a)\n"
      ]
    },
    {
      "cell_type": "markdown",
      "metadata": {
        "id": "F_59CCi9aULs"
      },
      "source": [
        "concatenating tensors"
      ]
    },
    {
      "cell_type": "code",
      "execution_count": null,
      "metadata": {
        "id": "nzZ8ObQYaDCo"
      },
      "outputs": [],
      "source": [
        "t1 = torch.tensor([\n",
        "    [1,2],\n",
        "    [3,4]\n",
        "], dtype= torch.int8)\n",
        "\n",
        "t2 = torch.tensor([\n",
        "    [5,6],\n",
        "    [7,8]\n",
        "], dtype= torch.int16)"
      ]
    },
    {
      "cell_type": "code",
      "execution_count": null,
      "metadata": {
        "colab": {
          "base_uri": "https://localhost:8080/"
        },
        "id": "SLMsT4k4am99",
        "outputId": "cac74b16-f495-4d77-f9a7-653099f1fc59"
      },
      "outputs": [
        {
          "data": {
            "text/plain": [
              "tensor([[1, 2],\n",
              "        [3, 4],\n",
              "        [5, 6],\n",
              "        [7, 8]], dtype=torch.int16)"
            ]
          },
          "execution_count": 81,
          "metadata": {},
          "output_type": "execute_result"
        }
      ],
      "source": [
        "torch.cat((t1, t2), dim=0)"
      ]
    },
    {
      "cell_type": "markdown",
      "metadata": {
        "id": "AKlohTdlOjZg"
      },
      "source": [
        "**Linear Regression with Tensorflow Keras**"
      ]
    },
    {
      "cell_type": "code",
      "execution_count": null,
      "metadata": {
        "id": "CmmvY5vCaqQV"
      },
      "outputs": [],
      "source": [
        "import numpy as np\n",
        "import pandas as pd\n",
        "import matplotlib.pyplot as plt"
      ]
    },
    {
      "cell_type": "code",
      "execution_count": null,
      "metadata": {
        "id": "H15nw-3XOyVX"
      },
      "outputs": [],
      "source": [
        "boston_data = pd.read_csv(\"https://raw.githubusercontent.com/dphi-official/Datasets/master/Boston_Housing/Training_set_boston.csv\")"
      ]
    },
    {
      "cell_type": "code",
      "execution_count": null,
      "metadata": {
        "colab": {
          "base_uri": "https://localhost:8080/",
          "height": 206
        },
        "id": "4zcjSI06O4oq",
        "outputId": "91deb5af-8dfa-47fb-cd47-b83015db2948"
      },
      "outputs": [
        {
          "data": {
            "text/html": [
              "\n",
              "  <div id=\"df-e5360b0c-c834-4489-84dd-79576c938b25\">\n",
              "    <div class=\"colab-df-container\">\n",
              "      <div>\n",
              "<style scoped>\n",
              "    .dataframe tbody tr th:only-of-type {\n",
              "        vertical-align: middle;\n",
              "    }\n",
              "\n",
              "    .dataframe tbody tr th {\n",
              "        vertical-align: top;\n",
              "    }\n",
              "\n",
              "    .dataframe thead th {\n",
              "        text-align: right;\n",
              "    }\n",
              "</style>\n",
              "<table border=\"1\" class=\"dataframe\">\n",
              "  <thead>\n",
              "    <tr style=\"text-align: right;\">\n",
              "      <th></th>\n",
              "      <th>CRIM</th>\n",
              "      <th>ZN</th>\n",
              "      <th>INDUS</th>\n",
              "      <th>CHAS</th>\n",
              "      <th>NOX</th>\n",
              "      <th>RM</th>\n",
              "      <th>AGE</th>\n",
              "      <th>DIS</th>\n",
              "      <th>RAD</th>\n",
              "      <th>TAX</th>\n",
              "      <th>PTRATIO</th>\n",
              "      <th>B</th>\n",
              "      <th>LSTAT</th>\n",
              "      <th>MEDV</th>\n",
              "    </tr>\n",
              "  </thead>\n",
              "  <tbody>\n",
              "    <tr>\n",
              "      <th>0</th>\n",
              "      <td>15.02340</td>\n",
              "      <td>0.0</td>\n",
              "      <td>18.10</td>\n",
              "      <td>0.0</td>\n",
              "      <td>0.6140</td>\n",
              "      <td>5.304</td>\n",
              "      <td>97.3</td>\n",
              "      <td>2.1007</td>\n",
              "      <td>24.0</td>\n",
              "      <td>666.0</td>\n",
              "      <td>20.2</td>\n",
              "      <td>349.48</td>\n",
              "      <td>24.91</td>\n",
              "      <td>12.0</td>\n",
              "    </tr>\n",
              "    <tr>\n",
              "      <th>1</th>\n",
              "      <td>0.62739</td>\n",
              "      <td>0.0</td>\n",
              "      <td>8.14</td>\n",
              "      <td>0.0</td>\n",
              "      <td>0.5380</td>\n",
              "      <td>5.834</td>\n",
              "      <td>56.5</td>\n",
              "      <td>4.4986</td>\n",
              "      <td>4.0</td>\n",
              "      <td>307.0</td>\n",
              "      <td>21.0</td>\n",
              "      <td>395.62</td>\n",
              "      <td>8.47</td>\n",
              "      <td>19.9</td>\n",
              "    </tr>\n",
              "    <tr>\n",
              "      <th>2</th>\n",
              "      <td>0.03466</td>\n",
              "      <td>35.0</td>\n",
              "      <td>6.06</td>\n",
              "      <td>0.0</td>\n",
              "      <td>0.4379</td>\n",
              "      <td>6.031</td>\n",
              "      <td>23.3</td>\n",
              "      <td>6.6407</td>\n",
              "      <td>1.0</td>\n",
              "      <td>304.0</td>\n",
              "      <td>16.9</td>\n",
              "      <td>362.25</td>\n",
              "      <td>7.83</td>\n",
              "      <td>19.4</td>\n",
              "    </tr>\n",
              "    <tr>\n",
              "      <th>3</th>\n",
              "      <td>7.05042</td>\n",
              "      <td>0.0</td>\n",
              "      <td>18.10</td>\n",
              "      <td>0.0</td>\n",
              "      <td>0.6140</td>\n",
              "      <td>6.103</td>\n",
              "      <td>85.1</td>\n",
              "      <td>2.0218</td>\n",
              "      <td>24.0</td>\n",
              "      <td>666.0</td>\n",
              "      <td>20.2</td>\n",
              "      <td>2.52</td>\n",
              "      <td>23.29</td>\n",
              "      <td>13.4</td>\n",
              "    </tr>\n",
              "    <tr>\n",
              "      <th>4</th>\n",
              "      <td>0.72580</td>\n",
              "      <td>0.0</td>\n",
              "      <td>8.14</td>\n",
              "      <td>0.0</td>\n",
              "      <td>0.5380</td>\n",
              "      <td>5.727</td>\n",
              "      <td>69.5</td>\n",
              "      <td>3.7965</td>\n",
              "      <td>4.0</td>\n",
              "      <td>307.0</td>\n",
              "      <td>21.0</td>\n",
              "      <td>390.95</td>\n",
              "      <td>11.28</td>\n",
              "      <td>18.2</td>\n",
              "    </tr>\n",
              "  </tbody>\n",
              "</table>\n",
              "</div>\n",
              "      <button class=\"colab-df-convert\" onclick=\"convertToInteractive('df-e5360b0c-c834-4489-84dd-79576c938b25')\"\n",
              "              title=\"Convert this dataframe to an interactive table.\"\n",
              "              style=\"display:none;\">\n",
              "        \n",
              "  <svg xmlns=\"http://www.w3.org/2000/svg\" height=\"24px\"viewBox=\"0 0 24 24\"\n",
              "       width=\"24px\">\n",
              "    <path d=\"M0 0h24v24H0V0z\" fill=\"none\"/>\n",
              "    <path d=\"M18.56 5.44l.94 2.06.94-2.06 2.06-.94-2.06-.94-.94-2.06-.94 2.06-2.06.94zm-11 1L8.5 8.5l.94-2.06 2.06-.94-2.06-.94L8.5 2.5l-.94 2.06-2.06.94zm10 10l.94 2.06.94-2.06 2.06-.94-2.06-.94-.94-2.06-.94 2.06-2.06.94z\"/><path d=\"M17.41 7.96l-1.37-1.37c-.4-.4-.92-.59-1.43-.59-.52 0-1.04.2-1.43.59L10.3 9.45l-7.72 7.72c-.78.78-.78 2.05 0 2.83L4 21.41c.39.39.9.59 1.41.59.51 0 1.02-.2 1.41-.59l7.78-7.78 2.81-2.81c.8-.78.8-2.07 0-2.86zM5.41 20L4 18.59l7.72-7.72 1.47 1.35L5.41 20z\"/>\n",
              "  </svg>\n",
              "      </button>\n",
              "      \n",
              "  <style>\n",
              "    .colab-df-container {\n",
              "      display:flex;\n",
              "      flex-wrap:wrap;\n",
              "      gap: 12px;\n",
              "    }\n",
              "\n",
              "    .colab-df-convert {\n",
              "      background-color: #E8F0FE;\n",
              "      border: none;\n",
              "      border-radius: 50%;\n",
              "      cursor: pointer;\n",
              "      display: none;\n",
              "      fill: #1967D2;\n",
              "      height: 32px;\n",
              "      padding: 0 0 0 0;\n",
              "      width: 32px;\n",
              "    }\n",
              "\n",
              "    .colab-df-convert:hover {\n",
              "      background-color: #E2EBFA;\n",
              "      box-shadow: 0px 1px 2px rgba(60, 64, 67, 0.3), 0px 1px 3px 1px rgba(60, 64, 67, 0.15);\n",
              "      fill: #174EA6;\n",
              "    }\n",
              "\n",
              "    [theme=dark] .colab-df-convert {\n",
              "      background-color: #3B4455;\n",
              "      fill: #D2E3FC;\n",
              "    }\n",
              "\n",
              "    [theme=dark] .colab-df-convert:hover {\n",
              "      background-color: #434B5C;\n",
              "      box-shadow: 0px 1px 3px 1px rgba(0, 0, 0, 0.15);\n",
              "      filter: drop-shadow(0px 1px 2px rgba(0, 0, 0, 0.3));\n",
              "      fill: #FFFFFF;\n",
              "    }\n",
              "  </style>\n",
              "\n",
              "      <script>\n",
              "        const buttonEl =\n",
              "          document.querySelector('#df-e5360b0c-c834-4489-84dd-79576c938b25 button.colab-df-convert');\n",
              "        buttonEl.style.display =\n",
              "          google.colab.kernel.accessAllowed ? 'block' : 'none';\n",
              "\n",
              "        async function convertToInteractive(key) {\n",
              "          const element = document.querySelector('#df-e5360b0c-c834-4489-84dd-79576c938b25');\n",
              "          const dataTable =\n",
              "            await google.colab.kernel.invokeFunction('convertToInteractive',\n",
              "                                                     [key], {});\n",
              "          if (!dataTable) return;\n",
              "\n",
              "          const docLinkHtml = 'Like what you see? Visit the ' +\n",
              "            '<a target=\"_blank\" href=https://colab.research.google.com/notebooks/data_table.ipynb>data table notebook</a>'\n",
              "            + ' to learn more about interactive tables.';\n",
              "          element.innerHTML = '';\n",
              "          dataTable['output_type'] = 'display_data';\n",
              "          await google.colab.output.renderOutput(dataTable, element);\n",
              "          const docLink = document.createElement('div');\n",
              "          docLink.innerHTML = docLinkHtml;\n",
              "          element.appendChild(docLink);\n",
              "        }\n",
              "      </script>\n",
              "    </div>\n",
              "  </div>\n",
              "  "
            ],
            "text/plain": [
              "       CRIM    ZN  INDUS  CHAS     NOX     RM   AGE     DIS   RAD    TAX  \\\n",
              "0  15.02340   0.0  18.10   0.0  0.6140  5.304  97.3  2.1007  24.0  666.0   \n",
              "1   0.62739   0.0   8.14   0.0  0.5380  5.834  56.5  4.4986   4.0  307.0   \n",
              "2   0.03466  35.0   6.06   0.0  0.4379  6.031  23.3  6.6407   1.0  304.0   \n",
              "3   7.05042   0.0  18.10   0.0  0.6140  6.103  85.1  2.0218  24.0  666.0   \n",
              "4   0.72580   0.0   8.14   0.0  0.5380  5.727  69.5  3.7965   4.0  307.0   \n",
              "\n",
              "   PTRATIO       B  LSTAT  MEDV  \n",
              "0     20.2  349.48  24.91  12.0  \n",
              "1     21.0  395.62   8.47  19.9  \n",
              "2     16.9  362.25   7.83  19.4  \n",
              "3     20.2    2.52  23.29  13.4  \n",
              "4     21.0  390.95  11.28  18.2  "
            ]
          },
          "execution_count": 84,
          "metadata": {},
          "output_type": "execute_result"
        }
      ],
      "source": [
        "boston_data.head()"
      ]
    },
    {
      "cell_type": "code",
      "execution_count": null,
      "metadata": {
        "id": "eVzXnIiiPJff"
      },
      "outputs": [],
      "source": [
        "X = boston_data.drop('MEDV', axis=1)\n",
        "y = boston_data.MEDV"
      ]
    },
    {
      "cell_type": "code",
      "execution_count": null,
      "metadata": {
        "id": "6kvSzxhVPWBx"
      },
      "outputs": [],
      "source": [
        "from sklearn.model_selection import train_test_split\n",
        "\n",
        "X_train, X_test, y_train, y_test = train_test_split(X, y, test_size=0.2, random_state=42)"
      ]
    },
    {
      "cell_type": "code",
      "execution_count": null,
      "metadata": {
        "colab": {
          "base_uri": "https://localhost:8080/"
        },
        "id": "9wz1Bbo7PxVC",
        "outputId": "8d006788-e747-431c-c288-d010dc7d10f8"
      },
      "outputs": [
        {
          "name": "stdout",
          "output_type": "stream",
          "text": [
            "13\n"
          ]
        }
      ],
      "source": [
        "n_features = X.shape[1]\n",
        "print(n_features)"
      ]
    },
    {
      "cell_type": "code",
      "execution_count": null,
      "metadata": {
        "id": "pQ1Ym-pGP3QO"
      },
      "outputs": [],
      "source": [
        "from tensorflow.keras import Sequential\n",
        "from tensorflow.keras.layers import Dense\n",
        "from numpy.random import seed\n",
        "import tensorflow\n"
      ]
    },
    {
      "cell_type": "code",
      "execution_count": null,
      "metadata": {
        "id": "bjm5SeHnQHx9"
      },
      "outputs": [],
      "source": [
        "# define the model\n",
        "model = Sequential()\n",
        "model.add(Dense(10, activation='relu', input_shape=(n_features,)))\n",
        "model.add(Dense(8, activation='relu'))\n",
        "model.add(Dense(1))"
      ]
    },
    {
      "cell_type": "code",
      "execution_count": null,
      "metadata": {
        "id": "sDh95VevQXlZ"
      },
      "outputs": [],
      "source": [
        "\n",
        "\n",
        "# import RMSprop optimizer\n",
        "from tensorflow.keras.optimizers import RMSprop\n",
        "optimizer = RMSprop(0.01)    # 0.01 is the learning rate\n",
        "\n"
      ]
    },
    {
      "cell_type": "code",
      "execution_count": null,
      "metadata": {
        "id": "1dCiDgOZQbFZ"
      },
      "outputs": [],
      "source": [
        "\n",
        "\n",
        "model.compile(loss='mean_squared_error',optimizer=optimizer)    # compile the model\n",
        "\n"
      ]
    },
    {
      "cell_type": "code",
      "execution_count": null,
      "metadata": {
        "colab": {
          "base_uri": "https://localhost:8080/"
        },
        "id": "ExNmHNDcQdIx",
        "outputId": "2c345133-60d1-4198-ec61-df8d4015394a"
      },
      "outputs": [
        {
          "name": "stdout",
          "output_type": "stream",
          "text": [
            "Epoch 1/10\n",
            "11/11 [==============================] - 1s 2ms/step - loss: 244.1495\n",
            "Epoch 2/10\n",
            "11/11 [==============================] - 0s 2ms/step - loss: 73.8451\n",
            "Epoch 3/10\n",
            "11/11 [==============================] - 0s 2ms/step - loss: 75.9672\n",
            "Epoch 4/10\n",
            "11/11 [==============================] - 0s 2ms/step - loss: 75.7670\n",
            "Epoch 5/10\n",
            "11/11 [==============================] - 0s 2ms/step - loss: 65.8919\n",
            "Epoch 6/10\n",
            "11/11 [==============================] - 0s 2ms/step - loss: 73.1731\n",
            "Epoch 7/10\n",
            "11/11 [==============================] - 0s 2ms/step - loss: 63.1236\n",
            "Epoch 8/10\n",
            "11/11 [==============================] - 0s 2ms/step - loss: 72.2858\n",
            "Epoch 9/10\n",
            "11/11 [==============================] - 0s 2ms/step - loss: 67.9203\n",
            "Epoch 10/10\n",
            "11/11 [==============================] - 0s 2ms/step - loss: 70.5173\n"
          ]
        },
        {
          "data": {
            "text/plain": [
              "<keras.callbacks.History at 0x7fa8e551bd50>"
            ]
          },
          "execution_count": 92,
          "metadata": {},
          "output_type": "execute_result"
        }
      ],
      "source": [
        "seed_value = 42\n",
        "seed(seed_value)        # If you build the model with given parameters, set_random_seed will help you produce the same result on multiple execution\n",
        "\n",
        "\n",
        "# Recommended by Keras -------------------------------------------------------------------------------------\n",
        "# 1. Set `PYTHONHASHSEED` environment variable at a fixed value\n",
        "import os\n",
        "os.environ['PYTHONHASHSEED']=str(seed_value)\n",
        "\n",
        "# 2. Set `python` built-in pseudo-random generator at a fixed value\n",
        "import random\n",
        "random.seed(seed_value)\n",
        "\n",
        "# 3. Set `numpy` pseudo-random generator at a fixed value\n",
        "import numpy as np\n",
        "np.random.seed(seed_value)\n",
        "# Recommended by Keras -------------------------------------------------------------------------------------\n",
        "\n",
        "\n",
        "# 4. Set the `tensorflow` pseudo-random generator at a fixed value\n",
        "tensorflow.random.set_seed(seed_value) \n",
        "model.fit(X_train, y_train, epochs=10, batch_size=30, verbose = 1)    # fit the model"
      ]
    },
    {
      "cell_type": "code",
      "execution_count": null,
      "metadata": {
        "colab": {
          "base_uri": "https://localhost:8080/"
        },
        "id": "Tq3GcwEkQeoB",
        "outputId": "ba4b3f63-5b7b-46a0-b704-c0e444ec7d40"
      },
      "outputs": [
        {
          "name": "stdout",
          "output_type": "stream",
          "text": [
            "3/3 [==============================] - 0s 4ms/step - loss: 41.5930\n"
          ]
        },
        {
          "data": {
            "text/plain": [
              "41.5930290222168"
            ]
          },
          "execution_count": 93,
          "metadata": {},
          "output_type": "execute_result"
        }
      ],
      "source": [
        "model.evaluate(X_test, y_test)"
      ]
    },
    {
      "cell_type": "code",
      "execution_count": null,
      "metadata": {
        "colab": {
          "base_uri": "https://localhost:8080/"
        },
        "id": "xeA_Yd4qQj0K",
        "outputId": "0f3b04a0-a80b-493f-bbd0-22aa3044fbd6"
      },
      "outputs": [
        {
          "name": "stdout",
          "output_type": "stream",
          "text": [
            "Epoch 1/10\n",
            "11/11 [==============================] - 1s 2ms/step - loss: 35268.1758\n",
            "Epoch 2/10\n",
            "11/11 [==============================] - 0s 2ms/step - loss: 559.4070\n",
            "Epoch 3/10\n",
            "11/11 [==============================] - 0s 2ms/step - loss: 212.1510\n",
            "Epoch 4/10\n",
            "11/11 [==============================] - 0s 2ms/step - loss: 139.3775\n",
            "Epoch 5/10\n",
            "11/11 [==============================] - 0s 2ms/step - loss: 129.5609\n",
            "Epoch 6/10\n",
            "11/11 [==============================] - 0s 2ms/step - loss: 122.8495\n",
            "Epoch 7/10\n",
            "11/11 [==============================] - 0s 2ms/step - loss: 174.4107\n",
            "Epoch 8/10\n",
            "11/11 [==============================] - 0s 2ms/step - loss: 142.8209\n",
            "Epoch 9/10\n",
            "11/11 [==============================] - 0s 2ms/step - loss: 201.2061\n",
            "Epoch 10/10\n",
            "11/11 [==============================] - 0s 2ms/step - loss: 224.0068\n",
            "3/3 [==============================] - 0s 4ms/step - loss: 122.8435\n",
            "The MSE value is:  122.843505859375\n"
          ]
        }
      ],
      "source": [
        "\n",
        "\n",
        "####################### Complete example to check the performance of the model with different learning rates #######################################\n",
        "# define the model\n",
        "model = Sequential()\n",
        "model.add(Dense(10, activation='relu', input_shape=(n_features,)))\n",
        "model.add(Dense(8, activation='relu'))\n",
        "model.add(Dense(1))\n",
        "\n",
        "optimizer = RMSprop(0.1)    # 0.1 is the learning rate\n",
        "model.compile(loss='mean_squared_error',optimizer=optimizer)    # compile the model\n",
        "\n",
        "# fit the model \n",
        "model.fit(X_train, y_train, epochs=10, batch_size=30, verbose = 1)\n",
        "\n",
        "# evaluate the model\n",
        "print('The MSE value is: ', model.evaluate(X_test, y_test))\n",
        "\n"
      ]
    },
    {
      "cell_type": "markdown",
      "metadata": {
        "id": "STgBH_7PRJgH"
      },
      "source": [
        "EXERCISE 1"
      ]
    },
    {
      "cell_type": "code",
      "execution_count": null,
      "metadata": {
        "colab": {
          "base_uri": "https://localhost:8080/"
        },
        "id": "YVk7Fq5kQq8n",
        "outputId": "522a1c9c-6c7a-48dd-e7c5-28064ea776d9"
      },
      "outputs": [
        {
          "name": "stdout",
          "output_type": "stream",
          "text": [
            "Epoch 1/10\n",
            "11/11 [==============================] - 1s 2ms/step - loss: 106.8296\n",
            "Epoch 2/10\n",
            "11/11 [==============================] - 0s 2ms/step - loss: 73.6981\n",
            "Epoch 3/10\n",
            "11/11 [==============================] - 0s 2ms/step - loss: 74.2901\n",
            "Epoch 4/10\n",
            "11/11 [==============================] - 0s 2ms/step - loss: 72.2811\n",
            "Epoch 5/10\n",
            "11/11 [==============================] - 0s 2ms/step - loss: 67.1468\n",
            "Epoch 6/10\n",
            "11/11 [==============================] - 0s 2ms/step - loss: 69.1007\n",
            "Epoch 7/10\n",
            "11/11 [==============================] - 0s 2ms/step - loss: 68.2756\n",
            "Epoch 8/10\n",
            "11/11 [==============================] - 0s 2ms/step - loss: 65.4214\n",
            "Epoch 9/10\n",
            "11/11 [==============================] - 0s 2ms/step - loss: 68.6736\n",
            "Epoch 10/10\n",
            "11/11 [==============================] - 0s 2ms/step - loss: 67.5172\n",
            "3/3 [==============================] - 0s 4ms/step - loss: 46.4915\n"
          ]
        },
        {
          "data": {
            "text/plain": [
              "46.491546630859375"
            ]
          },
          "execution_count": 95,
          "metadata": {},
          "output_type": "execute_result"
        }
      ],
      "source": [
        "# Play with learning rate\n",
        "learning_rate = 0.01          # Replace ? with a floating-point number(decimal no.)\n",
        "epochs = 10\n",
        "optimizer = RMSprop(learning_rate)\n",
        "model.compile(loss='mean_squared_error',optimizer=optimizer)    # Compile the model\n",
        "model.fit(X_train, y_train, epochs=epochs, batch_size=30)       # Fit the model\n",
        "model.evaluate(X_test, y_test)                                  # Evaluate the model"
      ]
    },
    {
      "cell_type": "markdown",
      "metadata": {
        "id": "AkbwtHknRfcV"
      },
      "source": [
        "EXERCISE 2"
      ]
    },
    {
      "cell_type": "code",
      "execution_count": null,
      "metadata": {
        "colab": {
          "base_uri": "https://localhost:8080/"
        },
        "id": "lA_OEAaAROud",
        "outputId": "4cf29a37-946b-46cc-f910-03a6ce4bae42"
      },
      "outputs": [
        {
          "name": "stdout",
          "output_type": "stream",
          "text": [
            "Epoch 1/50\n",
            "11/11 [==============================] - 1s 3ms/step - loss: 70.0362\n",
            "Epoch 2/50\n",
            "11/11 [==============================] - 0s 2ms/step - loss: 65.0259\n",
            "Epoch 3/50\n",
            "11/11 [==============================] - 0s 2ms/step - loss: 65.8137\n",
            "Epoch 4/50\n",
            "11/11 [==============================] - 0s 2ms/step - loss: 63.8883\n",
            "Epoch 5/50\n",
            "11/11 [==============================] - 0s 2ms/step - loss: 59.9468\n",
            "Epoch 6/50\n",
            "11/11 [==============================] - 0s 2ms/step - loss: 61.5756\n",
            "Epoch 7/50\n",
            "11/11 [==============================] - 0s 2ms/step - loss: 63.0611\n",
            "Epoch 8/50\n",
            "11/11 [==============================] - 0s 2ms/step - loss: 58.7888\n",
            "Epoch 9/50\n",
            "11/11 [==============================] - 0s 2ms/step - loss: 61.9014\n",
            "Epoch 10/50\n",
            "11/11 [==============================] - 0s 2ms/step - loss: 59.9055\n",
            "Epoch 11/50\n",
            "11/11 [==============================] - 0s 2ms/step - loss: 54.2819\n",
            "Epoch 12/50\n",
            "11/11 [==============================] - 0s 3ms/step - loss: 59.0154\n",
            "Epoch 13/50\n",
            "11/11 [==============================] - 0s 2ms/step - loss: 53.2294\n",
            "Epoch 14/50\n",
            "11/11 [==============================] - 0s 2ms/step - loss: 54.7935\n",
            "Epoch 15/50\n",
            "11/11 [==============================] - 0s 2ms/step - loss: 51.6362\n",
            "Epoch 16/50\n",
            "11/11 [==============================] - 0s 2ms/step - loss: 49.4284\n",
            "Epoch 17/50\n",
            "11/11 [==============================] - 0s 2ms/step - loss: 45.0351\n",
            "Epoch 18/50\n",
            "11/11 [==============================] - 0s 2ms/step - loss: 46.8648\n",
            "Epoch 19/50\n",
            "11/11 [==============================] - 0s 2ms/step - loss: 45.9559\n",
            "Epoch 20/50\n",
            "11/11 [==============================] - 0s 2ms/step - loss: 39.7783\n",
            "Epoch 21/50\n",
            "11/11 [==============================] - 0s 2ms/step - loss: 40.0188\n",
            "Epoch 22/50\n",
            "11/11 [==============================] - 0s 2ms/step - loss: 36.2901\n",
            "Epoch 23/50\n",
            "11/11 [==============================] - 0s 2ms/step - loss: 39.3474\n",
            "Epoch 24/50\n",
            "11/11 [==============================] - 0s 2ms/step - loss: 40.3923\n",
            "Epoch 25/50\n",
            "11/11 [==============================] - 0s 2ms/step - loss: 38.1665\n",
            "Epoch 26/50\n",
            "11/11 [==============================] - 0s 2ms/step - loss: 35.8620\n",
            "Epoch 27/50\n",
            "11/11 [==============================] - 0s 2ms/step - loss: 34.1938\n",
            "Epoch 28/50\n",
            "11/11 [==============================] - 0s 2ms/step - loss: 43.7981\n",
            "Epoch 29/50\n",
            "11/11 [==============================] - 0s 2ms/step - loss: 32.1151\n",
            "Epoch 30/50\n",
            "11/11 [==============================] - 0s 2ms/step - loss: 37.3553\n",
            "Epoch 31/50\n",
            "11/11 [==============================] - 0s 2ms/step - loss: 30.2474\n",
            "Epoch 32/50\n",
            "11/11 [==============================] - 0s 2ms/step - loss: 31.9172\n",
            "Epoch 33/50\n",
            "11/11 [==============================] - 0s 3ms/step - loss: 34.5217\n",
            "Epoch 34/50\n",
            "11/11 [==============================] - 0s 2ms/step - loss: 35.8923\n",
            "Epoch 35/50\n",
            "11/11 [==============================] - 0s 3ms/step - loss: 33.6774\n",
            "Epoch 36/50\n",
            "11/11 [==============================] - 0s 2ms/step - loss: 34.4583\n",
            "Epoch 37/50\n",
            "11/11 [==============================] - 0s 2ms/step - loss: 37.0913\n",
            "Epoch 38/50\n",
            "11/11 [==============================] - 0s 2ms/step - loss: 31.1438\n",
            "Epoch 39/50\n",
            "11/11 [==============================] - 0s 2ms/step - loss: 34.8596\n",
            "Epoch 40/50\n",
            "11/11 [==============================] - 0s 2ms/step - loss: 30.3386\n",
            "Epoch 41/50\n",
            "11/11 [==============================] - 0s 2ms/step - loss: 35.9620\n",
            "Epoch 42/50\n",
            "11/11 [==============================] - 0s 3ms/step - loss: 32.6409\n",
            "Epoch 43/50\n",
            "11/11 [==============================] - 0s 2ms/step - loss: 28.1292\n",
            "Epoch 44/50\n",
            "11/11 [==============================] - 0s 2ms/step - loss: 34.0228\n",
            "Epoch 45/50\n",
            "11/11 [==============================] - 0s 2ms/step - loss: 32.4452\n",
            "Epoch 46/50\n",
            "11/11 [==============================] - 0s 2ms/step - loss: 33.9290\n",
            "Epoch 47/50\n",
            "11/11 [==============================] - 0s 2ms/step - loss: 31.9301\n",
            "Epoch 48/50\n",
            "11/11 [==============================] - 0s 2ms/step - loss: 32.0946\n",
            "Epoch 49/50\n",
            "11/11 [==============================] - 0s 2ms/step - loss: 29.9296\n",
            "Epoch 50/50\n",
            "11/11 [==============================] - 0s 2ms/step - loss: 30.2093\n",
            "3/3 [==============================] - 0s 5ms/step - loss: 26.4303\n"
          ]
        },
        {
          "data": {
            "text/plain": [
              "26.430286407470703"
            ]
          },
          "execution_count": 96,
          "metadata": {},
          "output_type": "execute_result"
        }
      ],
      "source": [
        "# Play with epochs\n",
        "learning_rate = 0.01         \n",
        "epochs = 50     # Replace ? with an integer\n",
        "optimizer = RMSprop(learning_rate)\n",
        "model.compile(loss='mean_squared_error',optimizer=optimizer)    # Compile the model\n",
        "model.fit(X_train, y_train, epochs=epochs, batch_size=30)       # Fit the model\n",
        "model.evaluate(X_test, y_test)                                  # Evaluate the model"
      ]
    },
    {
      "cell_type": "markdown",
      "metadata": {
        "id": "yWxyLW3PRkGN"
      },
      "source": [
        "EXERCISE 3"
      ]
    },
    {
      "cell_type": "code",
      "execution_count": null,
      "metadata": {
        "colab": {
          "base_uri": "https://localhost:8080/"
        },
        "id": "gAra55cpRiYi",
        "outputId": "fcc30c24-1eb0-4248-c895-a8b45fff2188"
      },
      "outputs": [
        {
          "name": "stdout",
          "output_type": "stream",
          "text": [
            "Epoch 1/90\n",
            "11/11 [==============================] - 1s 2ms/step - loss: 43.7697\n",
            "Epoch 2/90\n",
            "11/11 [==============================] - 0s 2ms/step - loss: 33.8535\n",
            "Epoch 3/90\n",
            "11/11 [==============================] - 0s 2ms/step - loss: 35.2433\n",
            "Epoch 4/90\n",
            "11/11 [==============================] - 0s 2ms/step - loss: 33.0424\n",
            "Epoch 5/90\n",
            "11/11 [==============================] - 0s 2ms/step - loss: 28.7546\n",
            "Epoch 6/90\n",
            "11/11 [==============================] - 0s 2ms/step - loss: 33.4890\n",
            "Epoch 7/90\n",
            "11/11 [==============================] - 0s 2ms/step - loss: 27.1842\n",
            "Epoch 8/90\n",
            "11/11 [==============================] - 0s 2ms/step - loss: 28.2534\n",
            "Epoch 9/90\n",
            "11/11 [==============================] - 0s 2ms/step - loss: 31.4279\n",
            "Epoch 10/90\n",
            "11/11 [==============================] - 0s 2ms/step - loss: 26.5857\n",
            "Epoch 11/90\n",
            "11/11 [==============================] - 0s 2ms/step - loss: 32.3913\n",
            "Epoch 12/90\n",
            "11/11 [==============================] - 0s 2ms/step - loss: 36.4803\n",
            "Epoch 13/90\n",
            "11/11 [==============================] - 0s 2ms/step - loss: 30.6119\n",
            "Epoch 14/90\n",
            "11/11 [==============================] - 0s 2ms/step - loss: 29.4795\n",
            "Epoch 15/90\n",
            "11/11 [==============================] - 0s 2ms/step - loss: 33.2695\n",
            "Epoch 16/90\n",
            "11/11 [==============================] - 0s 2ms/step - loss: 31.9911\n",
            "Epoch 17/90\n",
            "11/11 [==============================] - 0s 2ms/step - loss: 31.9574\n",
            "Epoch 18/90\n",
            "11/11 [==============================] - 0s 2ms/step - loss: 27.9976\n",
            "Epoch 19/90\n",
            "11/11 [==============================] - 0s 2ms/step - loss: 31.2275\n",
            "Epoch 20/90\n",
            "11/11 [==============================] - 0s 2ms/step - loss: 34.1267\n",
            "Epoch 21/90\n",
            "11/11 [==============================] - 0s 2ms/step - loss: 25.8517\n",
            "Epoch 22/90\n",
            "11/11 [==============================] - 0s 2ms/step - loss: 29.8778\n",
            "Epoch 23/90\n",
            "11/11 [==============================] - 0s 2ms/step - loss: 34.3438\n",
            "Epoch 24/90\n",
            "11/11 [==============================] - 0s 2ms/step - loss: 30.6516\n",
            "Epoch 25/90\n",
            "11/11 [==============================] - 0s 2ms/step - loss: 27.8170\n",
            "Epoch 26/90\n",
            "11/11 [==============================] - 0s 2ms/step - loss: 26.5100\n",
            "Epoch 27/90\n",
            "11/11 [==============================] - 0s 3ms/step - loss: 31.4090\n",
            "Epoch 28/90\n",
            "11/11 [==============================] - 0s 3ms/step - loss: 36.3453\n",
            "Epoch 29/90\n",
            "11/11 [==============================] - 0s 3ms/step - loss: 26.2452\n",
            "Epoch 30/90\n",
            "11/11 [==============================] - 0s 2ms/step - loss: 31.5278\n",
            "Epoch 31/90\n",
            "11/11 [==============================] - 0s 2ms/step - loss: 26.7801\n",
            "Epoch 32/90\n",
            "11/11 [==============================] - 0s 2ms/step - loss: 32.6264\n",
            "Epoch 33/90\n",
            "11/11 [==============================] - 0s 3ms/step - loss: 31.8339\n",
            "Epoch 34/90\n",
            "11/11 [==============================] - 0s 2ms/step - loss: 27.8652\n",
            "Epoch 35/90\n",
            "11/11 [==============================] - 0s 3ms/step - loss: 32.4764\n",
            "Epoch 36/90\n",
            "11/11 [==============================] - 0s 3ms/step - loss: 31.2108\n",
            "Epoch 37/90\n",
            "11/11 [==============================] - 0s 2ms/step - loss: 32.0800\n",
            "Epoch 38/90\n",
            "11/11 [==============================] - 0s 3ms/step - loss: 27.8840\n",
            "Epoch 39/90\n",
            "11/11 [==============================] - 0s 3ms/step - loss: 29.8084\n",
            "Epoch 40/90\n",
            "11/11 [==============================] - 0s 4ms/step - loss: 28.4283\n",
            "Epoch 41/90\n",
            "11/11 [==============================] - 0s 3ms/step - loss: 30.1474\n",
            "Epoch 42/90\n",
            "11/11 [==============================] - 0s 2ms/step - loss: 30.2621\n",
            "Epoch 43/90\n",
            "11/11 [==============================] - 0s 2ms/step - loss: 25.7755\n",
            "Epoch 44/90\n",
            "11/11 [==============================] - 0s 2ms/step - loss: 30.2225\n",
            "Epoch 45/90\n",
            "11/11 [==============================] - 0s 2ms/step - loss: 27.4150\n",
            "Epoch 46/90\n",
            "11/11 [==============================] - 0s 3ms/step - loss: 29.9319\n",
            "Epoch 47/90\n",
            "11/11 [==============================] - 0s 2ms/step - loss: 29.5446\n",
            "Epoch 48/90\n",
            "11/11 [==============================] - 0s 2ms/step - loss: 29.0274\n",
            "Epoch 49/90\n",
            "11/11 [==============================] - 0s 2ms/step - loss: 30.7557\n",
            "Epoch 50/90\n",
            "11/11 [==============================] - 0s 2ms/step - loss: 28.7926\n",
            "Epoch 51/90\n",
            "11/11 [==============================] - 0s 2ms/step - loss: 34.7317\n",
            "Epoch 52/90\n",
            "11/11 [==============================] - 0s 2ms/step - loss: 27.9983\n",
            "Epoch 53/90\n",
            "11/11 [==============================] - 0s 2ms/step - loss: 29.4636\n",
            "Epoch 54/90\n",
            "11/11 [==============================] - 0s 2ms/step - loss: 29.2011\n",
            "Epoch 55/90\n",
            "11/11 [==============================] - 0s 2ms/step - loss: 33.3072\n",
            "Epoch 56/90\n",
            "11/11 [==============================] - 0s 3ms/step - loss: 29.9773\n",
            "Epoch 57/90\n",
            "11/11 [==============================] - 0s 2ms/step - loss: 29.1580\n",
            "Epoch 58/90\n",
            "11/11 [==============================] - 0s 2ms/step - loss: 29.1730\n",
            "Epoch 59/90\n",
            "11/11 [==============================] - 0s 2ms/step - loss: 31.9355\n",
            "Epoch 60/90\n",
            "11/11 [==============================] - 0s 2ms/step - loss: 35.4854\n",
            "Epoch 61/90\n",
            "11/11 [==============================] - 0s 2ms/step - loss: 26.5234\n",
            "Epoch 62/90\n",
            "11/11 [==============================] - 0s 2ms/step - loss: 27.3800\n",
            "Epoch 63/90\n",
            "11/11 [==============================] - 0s 2ms/step - loss: 30.0112\n",
            "Epoch 64/90\n",
            "11/11 [==============================] - 0s 2ms/step - loss: 32.7449\n",
            "Epoch 65/90\n",
            "11/11 [==============================] - 0s 3ms/step - loss: 26.4265\n",
            "Epoch 66/90\n",
            "11/11 [==============================] - 0s 2ms/step - loss: 35.8445\n",
            "Epoch 67/90\n",
            "11/11 [==============================] - 0s 3ms/step - loss: 25.3229\n",
            "Epoch 68/90\n",
            "11/11 [==============================] - 0s 3ms/step - loss: 25.0688\n",
            "Epoch 69/90\n",
            "11/11 [==============================] - 0s 2ms/step - loss: 30.7025\n",
            "Epoch 70/90\n",
            "11/11 [==============================] - 0s 2ms/step - loss: 29.1435\n",
            "Epoch 71/90\n",
            "11/11 [==============================] - 0s 2ms/step - loss: 30.6215\n",
            "Epoch 72/90\n",
            "11/11 [==============================] - 0s 3ms/step - loss: 31.1017\n",
            "Epoch 73/90\n",
            "11/11 [==============================] - 0s 3ms/step - loss: 28.5760\n",
            "Epoch 74/90\n",
            "11/11 [==============================] - 0s 2ms/step - loss: 30.4454\n",
            "Epoch 75/90\n",
            "11/11 [==============================] - 0s 2ms/step - loss: 27.9958\n",
            "Epoch 76/90\n",
            "11/11 [==============================] - 0s 2ms/step - loss: 29.8369\n",
            "Epoch 77/90\n",
            "11/11 [==============================] - 0s 2ms/step - loss: 29.7596\n",
            "Epoch 78/90\n",
            "11/11 [==============================] - 0s 3ms/step - loss: 28.1089\n",
            "Epoch 79/90\n",
            "11/11 [==============================] - 0s 2ms/step - loss: 29.7401\n",
            "Epoch 80/90\n",
            "11/11 [==============================] - 0s 2ms/step - loss: 24.9908\n",
            "Epoch 81/90\n",
            "11/11 [==============================] - 0s 2ms/step - loss: 29.0851\n",
            "Epoch 82/90\n",
            "11/11 [==============================] - 0s 3ms/step - loss: 28.1677\n",
            "Epoch 83/90\n",
            "11/11 [==============================] - 0s 3ms/step - loss: 27.1772\n",
            "Epoch 84/90\n",
            "11/11 [==============================] - 0s 3ms/step - loss: 31.3110\n",
            "Epoch 85/90\n",
            "11/11 [==============================] - 0s 2ms/step - loss: 26.2841\n",
            "Epoch 86/90\n",
            "11/11 [==============================] - 0s 2ms/step - loss: 25.7943\n",
            "Epoch 87/90\n",
            "11/11 [==============================] - 0s 2ms/step - loss: 33.5126\n",
            "Epoch 88/90\n",
            "11/11 [==============================] - 0s 3ms/step - loss: 25.4545\n",
            "Epoch 89/90\n",
            "11/11 [==============================] - 0s 4ms/step - loss: 33.8764\n",
            "Epoch 90/90\n",
            "11/11 [==============================] - 0s 4ms/step - loss: 28.0397\n",
            "3/3 [==============================] - 0s 5ms/step - loss: 29.0315\n"
          ]
        },
        {
          "data": {
            "text/plain": [
              "29.031478881835938"
            ]
          },
          "execution_count": 97,
          "metadata": {},
          "output_type": "execute_result"
        }
      ],
      "source": [
        "# play with learning rate and epochs\n",
        "learning_rate = 0.009      # Replace ? with a floating-point number\n",
        "epochs = 90         # Replace ? with an integer\n",
        "optimizer = RMSprop(learning_rate)\n",
        "model.compile(loss='mean_squared_error',optimizer=optimizer)    # Compile the model\n",
        "model.fit(X_train, y_train, epochs=epochs, batch_size=30)       # Fit the model\n",
        "model.evaluate(X_test, y_test)                                  # Evaluate the model"
      ]
    },
    {
      "cell_type": "markdown",
      "metadata": {
        "id": "DFnfRaUZR4ZA"
      },
      "source": [
        "EXERCISE 4"
      ]
    },
    {
      "cell_type": "code",
      "execution_count": null,
      "metadata": {
        "colab": {
          "base_uri": "https://localhost:8080/"
        },
        "id": "SiU_WPk3RrBb",
        "outputId": "8b37a260-bc52-49ae-b8f1-b4b0b1427aae"
      },
      "outputs": [
        {
          "name": "stdout",
          "output_type": "stream",
          "text": [
            "Epoch 1/150\n",
            "11/11 [==============================] - 1s 2ms/step - loss: 47.9483\n",
            "Epoch 2/150\n",
            "11/11 [==============================] - 0s 2ms/step - loss: 27.7247\n",
            "Epoch 3/150\n",
            "11/11 [==============================] - 0s 3ms/step - loss: 31.9689\n",
            "Epoch 4/150\n",
            "11/11 [==============================] - 0s 3ms/step - loss: 30.0980\n",
            "Epoch 5/150\n",
            "11/11 [==============================] - 0s 3ms/step - loss: 27.8028\n",
            "Epoch 6/150\n",
            "11/11 [==============================] - 0s 3ms/step - loss: 30.1954\n",
            "Epoch 7/150\n",
            "11/11 [==============================] - 0s 2ms/step - loss: 26.6665\n",
            "Epoch 8/150\n",
            "11/11 [==============================] - 0s 2ms/step - loss: 26.7520\n",
            "Epoch 9/150\n",
            "11/11 [==============================] - 0s 2ms/step - loss: 29.6346\n",
            "Epoch 10/150\n",
            "11/11 [==============================] - 0s 2ms/step - loss: 24.9207\n",
            "Epoch 11/150\n",
            "11/11 [==============================] - 0s 2ms/step - loss: 31.7576\n",
            "Epoch 12/150\n",
            "11/11 [==============================] - 0s 2ms/step - loss: 34.0746\n",
            "Epoch 13/150\n",
            "11/11 [==============================] - 0s 2ms/step - loss: 29.8469\n",
            "Epoch 14/150\n",
            "11/11 [==============================] - 0s 2ms/step - loss: 28.9494\n",
            "Epoch 15/150\n",
            "11/11 [==============================] - 0s 2ms/step - loss: 32.0567\n",
            "Epoch 16/150\n",
            "11/11 [==============================] - 0s 2ms/step - loss: 30.2348\n",
            "Epoch 17/150\n",
            "11/11 [==============================] - 0s 2ms/step - loss: 31.3215\n",
            "Epoch 18/150\n",
            "11/11 [==============================] - 0s 2ms/step - loss: 27.2016\n",
            "Epoch 19/150\n",
            "11/11 [==============================] - 0s 2ms/step - loss: 29.3669\n",
            "Epoch 20/150\n",
            "11/11 [==============================] - 0s 2ms/step - loss: 33.0515\n",
            "Epoch 21/150\n",
            "11/11 [==============================] - 0s 2ms/step - loss: 24.4665\n",
            "Epoch 22/150\n",
            "11/11 [==============================] - 0s 2ms/step - loss: 29.2727\n",
            "Epoch 23/150\n",
            "11/11 [==============================] - 0s 3ms/step - loss: 34.5201\n",
            "Epoch 24/150\n",
            "11/11 [==============================] - 0s 3ms/step - loss: 27.6103\n",
            "Epoch 25/150\n",
            "11/11 [==============================] - 0s 2ms/step - loss: 27.0607\n",
            "Epoch 26/150\n",
            "11/11 [==============================] - 0s 3ms/step - loss: 29.0464\n",
            "Epoch 27/150\n",
            "11/11 [==============================] - 0s 2ms/step - loss: 25.4675\n",
            "Epoch 28/150\n",
            "11/11 [==============================] - 0s 4ms/step - loss: 36.6083\n",
            "Epoch 29/150\n",
            "11/11 [==============================] - 0s 2ms/step - loss: 24.8076\n",
            "Epoch 30/150\n",
            "11/11 [==============================] - 0s 2ms/step - loss: 31.4316\n",
            "Epoch 31/150\n",
            "11/11 [==============================] - 0s 2ms/step - loss: 25.4612\n",
            "Epoch 32/150\n",
            "11/11 [==============================] - 0s 3ms/step - loss: 30.8748\n",
            "Epoch 33/150\n",
            "11/11 [==============================] - 0s 2ms/step - loss: 31.0399\n",
            "Epoch 34/150\n",
            "11/11 [==============================] - 0s 2ms/step - loss: 28.2029\n",
            "Epoch 35/150\n",
            "11/11 [==============================] - 0s 2ms/step - loss: 30.0780\n",
            "Epoch 36/150\n",
            "11/11 [==============================] - 0s 2ms/step - loss: 30.5416\n",
            "Epoch 37/150\n",
            "11/11 [==============================] - 0s 2ms/step - loss: 29.9093\n",
            "Epoch 38/150\n",
            "11/11 [==============================] - 0s 2ms/step - loss: 26.8815\n",
            "Epoch 39/150\n",
            "11/11 [==============================] - 0s 2ms/step - loss: 28.1702\n",
            "Epoch 40/150\n",
            "11/11 [==============================] - 0s 2ms/step - loss: 28.1234\n",
            "Epoch 41/150\n",
            "11/11 [==============================] - 0s 2ms/step - loss: 27.6923\n",
            "Epoch 42/150\n",
            "11/11 [==============================] - 0s 3ms/step - loss: 27.2262\n",
            "Epoch 43/150\n",
            "11/11 [==============================] - 0s 2ms/step - loss: 26.0104\n",
            "Epoch 44/150\n",
            "11/11 [==============================] - 0s 2ms/step - loss: 29.2774\n",
            "Epoch 45/150\n",
            "11/11 [==============================] - 0s 2ms/step - loss: 26.5838\n",
            "Epoch 46/150\n",
            "11/11 [==============================] - 0s 2ms/step - loss: 29.4862\n",
            "Epoch 47/150\n",
            "11/11 [==============================] - 0s 2ms/step - loss: 29.9229\n",
            "Epoch 48/150\n",
            "11/11 [==============================] - 0s 2ms/step - loss: 27.3459\n",
            "Epoch 49/150\n",
            "11/11 [==============================] - 0s 2ms/step - loss: 28.6908\n",
            "Epoch 50/150\n",
            "11/11 [==============================] - 0s 2ms/step - loss: 26.0686\n",
            "Epoch 51/150\n",
            "11/11 [==============================] - 0s 2ms/step - loss: 34.9793\n",
            "Epoch 52/150\n",
            "11/11 [==============================] - 0s 2ms/step - loss: 26.3460\n",
            "Epoch 53/150\n",
            "11/11 [==============================] - 0s 2ms/step - loss: 26.4734\n",
            "Epoch 54/150\n",
            "11/11 [==============================] - 0s 2ms/step - loss: 30.3311\n",
            "Epoch 55/150\n",
            "11/11 [==============================] - 0s 2ms/step - loss: 30.8034\n",
            "Epoch 56/150\n",
            "11/11 [==============================] - 0s 3ms/step - loss: 29.6857\n",
            "Epoch 57/150\n",
            "11/11 [==============================] - 0s 2ms/step - loss: 27.4308\n",
            "Epoch 58/150\n",
            "11/11 [==============================] - 0s 2ms/step - loss: 28.1213\n",
            "Epoch 59/150\n",
            "11/11 [==============================] - 0s 2ms/step - loss: 31.2298\n",
            "Epoch 60/150\n",
            "11/11 [==============================] - 0s 2ms/step - loss: 33.0331\n",
            "Epoch 61/150\n",
            "11/11 [==============================] - 0s 3ms/step - loss: 25.9994\n",
            "Epoch 62/150\n",
            "11/11 [==============================] - 0s 3ms/step - loss: 26.8452\n",
            "Epoch 63/150\n",
            "11/11 [==============================] - 0s 2ms/step - loss: 29.4885\n",
            "Epoch 64/150\n",
            "11/11 [==============================] - 0s 2ms/step - loss: 31.3224\n",
            "Epoch 65/150\n",
            "11/11 [==============================] - 0s 3ms/step - loss: 26.0452\n",
            "Epoch 66/150\n",
            "11/11 [==============================] - 0s 2ms/step - loss: 34.0142\n",
            "Epoch 67/150\n",
            "11/11 [==============================] - 0s 3ms/step - loss: 24.2840\n",
            "Epoch 68/150\n",
            "11/11 [==============================] - 0s 2ms/step - loss: 23.4828\n",
            "Epoch 69/150\n",
            "11/11 [==============================] - 0s 2ms/step - loss: 29.6971\n",
            "Epoch 70/150\n",
            "11/11 [==============================] - 0s 2ms/step - loss: 28.5615\n",
            "Epoch 71/150\n",
            "11/11 [==============================] - 0s 2ms/step - loss: 30.5613\n",
            "Epoch 72/150\n",
            "11/11 [==============================] - 0s 3ms/step - loss: 30.5076\n",
            "Epoch 73/150\n",
            "11/11 [==============================] - 0s 3ms/step - loss: 26.6873\n",
            "Epoch 74/150\n",
            "11/11 [==============================] - 0s 2ms/step - loss: 30.9324\n",
            "Epoch 75/150\n",
            "11/11 [==============================] - 0s 2ms/step - loss: 27.1463\n",
            "Epoch 76/150\n",
            "11/11 [==============================] - 0s 2ms/step - loss: 28.9580\n",
            "Epoch 77/150\n",
            "11/11 [==============================] - 0s 2ms/step - loss: 29.8266\n",
            "Epoch 78/150\n",
            "11/11 [==============================] - 0s 3ms/step - loss: 27.0245\n",
            "Epoch 79/150\n",
            "11/11 [==============================] - 0s 2ms/step - loss: 28.6352\n",
            "Epoch 80/150\n",
            "11/11 [==============================] - 0s 3ms/step - loss: 23.5890\n",
            "Epoch 81/150\n",
            "11/11 [==============================] - 0s 3ms/step - loss: 29.0277\n",
            "Epoch 82/150\n",
            "11/11 [==============================] - 0s 2ms/step - loss: 26.5224\n",
            "Epoch 83/150\n",
            "11/11 [==============================] - 0s 2ms/step - loss: 26.1874\n",
            "Epoch 84/150\n",
            "11/11 [==============================] - 0s 3ms/step - loss: 29.5249\n",
            "Epoch 85/150\n",
            "11/11 [==============================] - 0s 2ms/step - loss: 23.9643\n",
            "Epoch 86/150\n",
            "11/11 [==============================] - 0s 3ms/step - loss: 27.2715\n",
            "Epoch 87/150\n",
            "11/11 [==============================] - 0s 3ms/step - loss: 31.9997\n",
            "Epoch 88/150\n",
            "11/11 [==============================] - 0s 2ms/step - loss: 23.9517\n",
            "Epoch 89/150\n",
            "11/11 [==============================] - 0s 2ms/step - loss: 32.0172\n",
            "Epoch 90/150\n",
            "11/11 [==============================] - 0s 3ms/step - loss: 26.7762\n",
            "Epoch 91/150\n",
            "11/11 [==============================] - 0s 2ms/step - loss: 24.7208\n",
            "Epoch 92/150\n",
            "11/11 [==============================] - 0s 2ms/step - loss: 36.0008\n",
            "Epoch 93/150\n",
            "11/11 [==============================] - 0s 2ms/step - loss: 22.1385\n",
            "Epoch 94/150\n",
            "11/11 [==============================] - 0s 3ms/step - loss: 26.2189\n",
            "Epoch 95/150\n",
            "11/11 [==============================] - 0s 3ms/step - loss: 29.5911\n",
            "Epoch 96/150\n",
            "11/11 [==============================] - 0s 3ms/step - loss: 22.5997\n",
            "Epoch 97/150\n",
            "11/11 [==============================] - 0s 2ms/step - loss: 28.5149\n",
            "Epoch 98/150\n",
            "11/11 [==============================] - 0s 3ms/step - loss: 24.5541\n",
            "Epoch 99/150\n",
            "11/11 [==============================] - 0s 2ms/step - loss: 29.8238\n",
            "Epoch 100/150\n",
            "11/11 [==============================] - 0s 2ms/step - loss: 25.2829\n",
            "Epoch 101/150\n",
            "11/11 [==============================] - 0s 2ms/step - loss: 28.7220\n",
            "Epoch 102/150\n",
            "11/11 [==============================] - 0s 2ms/step - loss: 28.5268\n",
            "Epoch 103/150\n",
            "11/11 [==============================] - 0s 3ms/step - loss: 23.9618\n",
            "Epoch 104/150\n",
            "11/11 [==============================] - 0s 3ms/step - loss: 31.3970\n",
            "Epoch 105/150\n",
            "11/11 [==============================] - 0s 3ms/step - loss: 25.2536\n",
            "Epoch 106/150\n",
            "11/11 [==============================] - 0s 2ms/step - loss: 24.2571\n",
            "Epoch 107/150\n",
            "11/11 [==============================] - 0s 2ms/step - loss: 24.3762\n",
            "Epoch 108/150\n",
            "11/11 [==============================] - 0s 2ms/step - loss: 29.2542\n",
            "Epoch 109/150\n",
            "11/11 [==============================] - 0s 2ms/step - loss: 29.2487\n",
            "Epoch 110/150\n",
            "11/11 [==============================] - 0s 3ms/step - loss: 23.5116\n",
            "Epoch 111/150\n",
            "11/11 [==============================] - 0s 3ms/step - loss: 26.3502\n",
            "Epoch 112/150\n",
            "11/11 [==============================] - 0s 2ms/step - loss: 29.2366\n",
            "Epoch 113/150\n",
            "11/11 [==============================] - 0s 3ms/step - loss: 27.9711\n",
            "Epoch 114/150\n",
            "11/11 [==============================] - 0s 2ms/step - loss: 22.9515\n",
            "Epoch 115/150\n",
            "11/11 [==============================] - 0s 2ms/step - loss: 34.4890\n",
            "Epoch 116/150\n",
            "11/11 [==============================] - 0s 3ms/step - loss: 21.3995\n",
            "Epoch 117/150\n",
            "11/11 [==============================] - 0s 2ms/step - loss: 31.1553\n",
            "Epoch 118/150\n",
            "11/11 [==============================] - 0s 3ms/step - loss: 24.0137\n",
            "Epoch 119/150\n",
            "11/11 [==============================] - 0s 2ms/step - loss: 24.3409\n",
            "Epoch 120/150\n",
            "11/11 [==============================] - 0s 2ms/step - loss: 26.2288\n",
            "Epoch 121/150\n",
            "11/11 [==============================] - 0s 2ms/step - loss: 23.9331\n",
            "Epoch 122/150\n",
            "11/11 [==============================] - 0s 2ms/step - loss: 31.8083\n",
            "Epoch 123/150\n",
            "11/11 [==============================] - 0s 2ms/step - loss: 25.9469\n",
            "Epoch 124/150\n",
            "11/11 [==============================] - 0s 3ms/step - loss: 27.6867\n",
            "Epoch 125/150\n",
            "11/11 [==============================] - 0s 2ms/step - loss: 26.4350\n",
            "Epoch 126/150\n",
            "11/11 [==============================] - 0s 2ms/step - loss: 30.0103\n",
            "Epoch 127/150\n",
            "11/11 [==============================] - 0s 2ms/step - loss: 24.6109\n",
            "Epoch 128/150\n",
            "11/11 [==============================] - 0s 2ms/step - loss: 28.3672\n",
            "Epoch 129/150\n",
            "11/11 [==============================] - 0s 2ms/step - loss: 28.5689\n",
            "Epoch 130/150\n",
            "11/11 [==============================] - 0s 2ms/step - loss: 25.1446\n",
            "Epoch 131/150\n",
            "11/11 [==============================] - 0s 2ms/step - loss: 26.2726\n",
            "Epoch 132/150\n",
            "11/11 [==============================] - 0s 3ms/step - loss: 29.3797\n",
            "Epoch 133/150\n",
            "11/11 [==============================] - 0s 2ms/step - loss: 27.2601\n",
            "Epoch 134/150\n",
            "11/11 [==============================] - 0s 2ms/step - loss: 26.2397\n",
            "Epoch 135/150\n",
            "11/11 [==============================] - 0s 2ms/step - loss: 27.0724\n",
            "Epoch 136/150\n",
            "11/11 [==============================] - 0s 2ms/step - loss: 27.1916\n",
            "Epoch 137/150\n",
            "11/11 [==============================] - 0s 3ms/step - loss: 24.5358\n",
            "Epoch 138/150\n",
            "11/11 [==============================] - 0s 3ms/step - loss: 23.8741\n",
            "Epoch 139/150\n",
            "11/11 [==============================] - 0s 3ms/step - loss: 24.0147\n",
            "Epoch 140/150\n",
            "11/11 [==============================] - 0s 3ms/step - loss: 25.6691\n",
            "Epoch 141/150\n",
            "11/11 [==============================] - 0s 2ms/step - loss: 26.4788\n",
            "Epoch 142/150\n",
            "11/11 [==============================] - 0s 2ms/step - loss: 27.3534\n",
            "Epoch 143/150\n",
            "11/11 [==============================] - 0s 2ms/step - loss: 24.6051\n",
            "Epoch 144/150\n",
            "11/11 [==============================] - 0s 2ms/step - loss: 27.8601\n",
            "Epoch 145/150\n",
            "11/11 [==============================] - 0s 2ms/step - loss: 22.8679\n",
            "Epoch 146/150\n",
            "11/11 [==============================] - 0s 3ms/step - loss: 26.4556\n",
            "Epoch 147/150\n",
            "11/11 [==============================] - 0s 3ms/step - loss: 28.0234\n",
            "Epoch 148/150\n",
            "11/11 [==============================] - 0s 2ms/step - loss: 24.1285\n",
            "Epoch 149/150\n",
            "11/11 [==============================] - 0s 2ms/step - loss: 28.0707\n",
            "Epoch 150/150\n",
            "11/11 [==============================] - 0s 3ms/step - loss: 24.7603\n"
          ]
        }
      ],
      "source": [
        "# play with batch size\n",
        "learning_rate = 0.01        \n",
        "epochs = 150         \n",
        "batch = 30      # Replace ? with an integer    \n",
        "optimizer = RMSprop(learning_rate)\n",
        "model.compile(loss='mean_squared_error',optimizer=optimizer)    # compile the model\n",
        "model.fit(X_train, y_train, epochs=epochs, batch_size=batch)     # fit the model\n",
        "model.evaluate(X_test, y_test)       # Evaluate the model"
      ]
    },
    {
      "cell_type": "markdown",
      "metadata": {
        "id": "-a8RH7w7SUEf"
      },
      "source": [
        "**Making a Prediction (i.e 5th and Final step of Model Life-Cycle)**"
      ]
    },
    {
      "cell_type": "code",
      "execution_count": null,
      "metadata": {
        "colab": {
          "background_save": true
        },
        "id": "6JViHgNTSCBG",
        "outputId": "4ae90ab6-496a-477e-aa5b-5b464e8ee900"
      },
      "outputs": [
        {
          "name": "stdout",
          "output_type": "stream",
          "text": [
            "4/4 [==============================] - 0s 3ms/step\n"
          ]
        },
        {
          "data": {
            "text/plain": [
              "array([[25.828476 ],\n",
              "       [36.68556  ],\n",
              "       [14.915983 ],\n",
              "       [23.1411   ],\n",
              "       [15.093267 ],\n",
              "       [17.282969 ],\n",
              "       [14.915983 ],\n",
              "       [14.915983 ],\n",
              "       [19.645275 ],\n",
              "       [17.41712  ],\n",
              "       [17.132833 ],\n",
              "       [14.915983 ],\n",
              "       [14.915983 ],\n",
              "       [16.649012 ],\n",
              "       [18.364355 ],\n",
              "       [20.170383 ],\n",
              "       [14.915983 ],\n",
              "       [14.915983 ],\n",
              "       [38.23566  ],\n",
              "       [14.915983 ],\n",
              "       [24.921867 ],\n",
              "       [26.025785 ],\n",
              "       [14.915983 ],\n",
              "       [21.02491  ],\n",
              "       [14.915983 ],\n",
              "       [14.915983 ],\n",
              "       [20.310555 ],\n",
              "       [14.915983 ],\n",
              "       [15.696062 ],\n",
              "       [17.053673 ],\n",
              "       [18.750517 ],\n",
              "       [23.784037 ],\n",
              "       [20.378721 ],\n",
              "       [21.644268 ],\n",
              "       [14.915983 ],\n",
              "       [14.915983 ],\n",
              "       [30.414364 ],\n",
              "       [20.331179 ],\n",
              "       [16.913008 ],\n",
              "       [20.368418 ],\n",
              "       [14.915983 ],\n",
              "       [29.095335 ],\n",
              "       [39.39624  ],\n",
              "       [15.211025 ],\n",
              "       [23.331993 ],\n",
              "       [15.6485615],\n",
              "       [14.915983 ],\n",
              "       [21.738283 ],\n",
              "       [16.150442 ],\n",
              "       [31.082584 ],\n",
              "       [18.49706  ],\n",
              "       [33.052914 ],\n",
              "       [14.915983 ],\n",
              "       [23.334223 ],\n",
              "       [41.493694 ],\n",
              "       [20.40703  ],\n",
              "       [16.713112 ],\n",
              "       [31.975874 ],\n",
              "       [21.390667 ],\n",
              "       [14.915983 ],\n",
              "       [19.991056 ],\n",
              "       [27.091797 ],\n",
              "       [31.516195 ],\n",
              "       [14.915983 ],\n",
              "       [19.556213 ],\n",
              "       [14.915983 ],\n",
              "       [16.121302 ],\n",
              "       [23.653093 ],\n",
              "       [28.978212 ],\n",
              "       [14.915983 ],\n",
              "       [16.20106  ],\n",
              "       [25.287937 ],\n",
              "       [14.915983 ],\n",
              "       [18.236784 ],\n",
              "       [19.207848 ],\n",
              "       [14.915983 ],\n",
              "       [18.576557 ],\n",
              "       [37.461414 ],\n",
              "       [14.915983 ],\n",
              "       [14.915983 ],\n",
              "       [19.724855 ],\n",
              "       [14.915983 ],\n",
              "       [18.575539 ],\n",
              "       [14.915983 ],\n",
              "       [20.59595  ],\n",
              "       [25.515776 ],\n",
              "       [14.915983 ],\n",
              "       [24.967228 ],\n",
              "       [26.360044 ],\n",
              "       [15.866228 ],\n",
              "       [22.181269 ],\n",
              "       [14.915983 ],\n",
              "       [17.950512 ],\n",
              "       [14.915983 ],\n",
              "       [21.956495 ],\n",
              "       [18.468924 ],\n",
              "       [22.417385 ],\n",
              "       [14.915983 ],\n",
              "       [14.915983 ],\n",
              "       [14.915983 ],\n",
              "       [17.963371 ],\n",
              "       [20.145895 ]], dtype=float32)"
            ]
          },
          "execution_count": 99,
          "metadata": {},
          "output_type": "execute_result"
        }
      ],
      "source": [
        "new_test_data = pd.read_csv('https://raw.githubusercontent.com/dphi-official/Datasets/master/Boston_Housing/Testing_set_boston.csv')\n",
        "model.predict(new_test_data)"
      ]
    },
    {
      "cell_type": "markdown",
      "metadata": {
        "id": "Pq1dIz9STSpE"
      },
      "source": [
        "**Linear Regression and Hyperparameter Tuning using Tensorflow Keras and kerastuner**"
      ]
    },
    {
      "cell_type": "markdown",
      "metadata": {
        "id": "mYgMir-cmyLm"
      },
      "source": [
        "\n",
        "Implementing hyperparameter tuning with Sklearn\n"
      ]
    },
    {
      "cell_type": "code",
      "execution_count": null,
      "metadata": {
        "id": "YbTORM4vSr1r"
      },
      "outputs": [],
      "source": [
        "# ----------------------------- Functional Tuning - Option 1: using Sklearn  ------------------------------\n",
        "# Goal: tune the batch size and epochs\n",
        "\n",
        "# Import KerasRegressor class\n",
        "from keras.wrappers.scikit_learn import KerasRegressor\n",
        "\n",
        "# Define the model trhough a user-defined function\n",
        "def create_model(optimizer=RMSprop(0.01)):\n",
        "  model = Sequential()\n",
        "  model.add(Dense(10, activation='relu', input_shape=(n_features,)))\n",
        "  model.add(Dense(8, activation='relu'))\n",
        "  model.add(Dense(1))\n",
        "  model.compile(loss='mse', metrics=['mse'], optimizer=optimizer)    # compile the model\n",
        "  return model\n",
        "model = KerasRegressor(build_fn=create_model, verbose=1)\n",
        "\n",
        "# Define the hyperparameters grid to be validated\n",
        "batch_size = [10, 20, 30, 40, 60, 80, 100]\n",
        "epochs = [10, 50, 100]\n",
        "param_grid = dict(batch_size=batch_size, nb_epoch=epochs)\n",
        "model = KerasRegressor(build_fn=create_model, verbose=1)\n",
        "grid = GridSearchCV(estimator=model, param_grid=param_grid, cv=5, n_jobs=-1)\n",
        "\n",
        "# Run the GridSearchCV process\n",
        "grid_result = grid.fit(X_train, y_train, verbose = 1)\n",
        "\n",
        "# Print the results of the best model\n",
        "print('Best params: ' + str(grid_result.best_params_))"
      ]
    },
    {
      "cell_type": "code",
      "execution_count": null,
      "metadata": {
        "id": "ZkIWBMhTnSuf"
      },
      "outputs": [],
      "source": [
        "# Import the cross validation evaluator\n",
        "from sklearn.model_selection import cross_val_score\n",
        "\n",
        "# Measure the model's performance\n",
        "results = cross_val_score(grid.best_estimator_, X_test, y_test, cv=5)\n",
        "print('Results: \\n  * Mean:', -results.mean(), '\\n  * Std:', results.std())"
      ]
    },
    {
      "cell_type": "markdown",
      "metadata": {
        "id": "jvOdEEhJoslM"
      },
      "source": [
        "\n",
        "Implementing hyperparameter tuning with Keras"
      ]
    },
    {
      "cell_type": "code",
      "execution_count": null,
      "metadata": {
        "id": "2xR6dtvPorgu"
      },
      "outputs": [],
      "source": [
        "# ----------------------------- Functional Tuning - Option 2: using Keras Tuner ------------------------------\n",
        "# Goal: tune the learning rate\n",
        "\n",
        "# 0. Install and import all the packages needed\n",
        "!pip install -q -U keras-tuner\n",
        "import kerastuner as kt\n",
        "\n",
        "# 1. Define the general architecture of the model through a creation user-defined function\n",
        "def model_builder(hp):\n",
        "  model = Sequential()\n",
        "  model.add(Dense(10, activation='relu', input_shape=(n_features,)))\n",
        "  model.add(Dense(8, activation='relu'))\n",
        "  model.add(Dense(1))\n",
        "  hp_learning_rate = hp.Choice('learning_rate', values = [1e-1, 1e-2, 1e-3, 1e-4]) # Tuning the learning rate (four different values to test: 0.1, 0.01, 0.001, 0.0001)\n",
        "  optimizer = RMSprop(learning_rate = hp_learning_rate)                            # Defining the optimizer\n",
        "  model.compile(loss='mse',metrics=['mse'], optimizer=optimizer)                   # Compiling the model \n",
        "  return model                                                                     # Returning the defined model\n",
        "\n",
        "# 2. Define the hyperparameters grid to be validated\n",
        "tuner_rs = kt.RandomSearch(\n",
        "              model_builder,                # Takes hyperparameters (hp) and returns a Model instance\n",
        "              objective = 'mse',            # Name of model metric to minimize or maximize\n",
        "              seed = 42,                    # Random seed for replication purposes\n",
        "              max_trials = 5,               # Total number of trials (model configurations) to test at most. Note that the oracle may interrupt the search before max_trial models have been tested.\n",
        "              directory='random_search')    # Path to the working directory (relative).\n",
        "\n",
        "# 3. Run the GridSearchCV process\n",
        "tuner_rs.search(X_train, y_train, epochs=10, validation_split=0.2, verbose=1)"
      ]
    },
    {
      "cell_type": "code",
      "execution_count": null,
      "metadata": {
        "id": "LTsiEntno2ev"
      },
      "outputs": [],
      "source": [
        "# 4.1. Print the summary results of the hyperparameter tuning procedure\n",
        "tuner_rs.results_summary()"
      ]
    },
    {
      "cell_type": "code",
      "execution_count": null,
      "metadata": {
        "id": "plNztpm7o59y"
      },
      "outputs": [],
      "source": [
        "# 4.2. Print the results of the best model\n",
        "best_model = tuner_rs.get_best_models(num_models=1)[0]\n",
        "best_model.evaluate(X_test, y_test)"
      ]
    },
    {
      "cell_type": "code",
      "execution_count": null,
      "metadata": {
        "id": "ySidG0k-pBjC"
      },
      "outputs": [],
      "source": [
        "# 4.3. Print the best model's architecture\n",
        "best_model.summary()"
      ]
    },
    {
      "cell_type": "code",
      "execution_count": null,
      "metadata": {
        "id": "odLfBL2HpEfr"
      },
      "outputs": [],
      "source": [
        "# Load new test data\n",
        "new_test_data = pd.read_csv('https://raw.githubusercontent.com/dphi-official/Datasets/master/Boston_Housing/Testing_set_boston.csv')\n",
        "# make a prediction\n",
        "best_model.predict(new_test_data)\n"
      ]
    }
  ],
  "metadata": {
    "colab": {
      "collapsed_sections": [],
      "provenance": [],
      "authorship_tag": "ABX9TyOyuSYj3Ari1+TbdebTIl4V",
      "include_colab_link": true
    },
    "kernelspec": {
      "display_name": "Python 3",
      "name": "python3"
    },
    "language_info": {
      "name": "python"
    }
  },
  "nbformat": 4,
  "nbformat_minor": 0
}